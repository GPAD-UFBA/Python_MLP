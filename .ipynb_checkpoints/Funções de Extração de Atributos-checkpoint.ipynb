{
 "cells": [
  {
   "cell_type": "markdown",
   "metadata": {},
   "source": [
    "# Funções de Extração de Atributos\n",
    "\n",
    "Esse código tem por propósito reunir todas as funções de extração de atributos para alimentação da MLP. Esses atributos são:\n",
    "\n",
    " - **Atributo 1: v_eta**, ou a Média;\n",
    " - **Atributo 2: v_sigma**, ou Desvio Dadrão;\n",
    " - **Atributo 3: v_mu**, ou Moda;\n",
    " - **Atributo 4: v_sc**, ou Centróide Espectral;\n",
    " - **Atributo 5: v_ss**, ou Espalhamento Espectral;\n",
    " - **Atributo 6: v_SSk**, ou Skewness Espectral;\n",
    " - **Atributo 7: v_ThCR**, ou Tava de Cruzamento por Limiar (Th=0);\n",
    " - **Atributo 8: v_SCF**, ou Spectral Crest Factor;\n",
    " - **Atributo 9: v_SR**, ou Spectral Rollof;\n",
    " - **Atributo 10: v_SD**, ou Spectral Decrease;\n",
    " - **Atributo 11: v_SF**, ou Spectral Flatness;\n",
    " - **Atributo 12: v_PR**, ou Predictivity Ratio;\n",
    " - **Atributo 13: v_ERf1**, ou Espectro Rítmico (freq. do máximo >0.5Hz).\n",
    " \n",
    "Cada um dos atributos é extraído por uma função individual que serão então invocadas por uma função *master* que receberá as PeDFs do banco de dados. \n",
    "\n",
    "> Durante o desenvolvimento, os códigos originais desenvolvidos em MATLAB pelo professor Antônio estarão acima das células que contém (ou conterão) os códigos em Python. \n"
   ]
  },
  {
   "cell_type": "markdown",
   "metadata": {},
   "source": [
    "### Importações"
   ]
  },
  {
   "cell_type": "code",
   "execution_count": 1,
   "metadata": {},
   "outputs": [],
   "source": [
    "import numpy as np\n",
    "from scipy import stats\n",
    "from scipy import signal"
   ]
  },
  {
   "cell_type": "code",
   "execution_count": 5,
   "metadata": {},
   "outputs": [
    {
     "name": "stdout",
     "output_type": "stream",
     "text": [
      "[0 0 0 0 8 9 7]\n",
      "[0 8 9 7]\n",
      "[3 0 0 0 8 9 7]\n"
     ]
    }
   ],
   "source": [
    "a = np.array([0,0,0,0,8,9,7])\n",
    "print(a)\n",
    "print(a[3:])\n",
    "a[0] = 3\n",
    "print(a)\n"
   ]
  },
  {
   "cell_type": "markdown",
   "metadata": {},
   "source": [
    "### v_eta ou Média\n",
    "O código do professor para extração de média não foi feito através de uma função \"original\", mas pela função `mean` do MATLAB diretamente na função *master*. Aqui, por consistência, será feito através da função `v_eta`. O código abaixo se refere a uma das vezes em que a função `mean` foi utilizada no código do professor.\n",
    "\n",
    "![Cálculo da Média](img/v_eta.png)\n",
    "\n",
    "```sh\n",
    "v_eta_PeDFA5(k)=mean(Delta1);\n",
    "```"
   ]
  },
  {
   "cell_type": "code",
   "execution_count": null,
   "metadata": {},
   "outputs": [],
   "source": [
    "def v_eta(x):\n",
    "    return np.mean(x)"
   ]
  },
  {
   "cell_type": "markdown",
   "metadata": {},
   "source": [
    "### v_sigma ou Desvio Padrão\n",
    "O código do professor para extração de desvio padrão não foi feito através de uma função \"original\", mas pela função `std` do MATLAB diretamente na função *master*. Aqui, por consistência, será feito através da função `v_sigma`. O código abaixo se refere a uma das vezes em que a função `std` foi utilizada no código do professor.\n",
    "\n",
    "![Cálculo do Desvio Padrão](img/v_sigma.png)\n",
    "\n",
    "```sh\n",
    "v_sigma_PeDFA5(k)=std(Delta1,1); %O número 1 em std(x,1) é um flag indicando sqrt((x-eta_x)^2)/N, onde N é número de amostras\n",
    "```"
   ]
  },
  {
   "cell_type": "code",
   "execution_count": null,
   "metadata": {},
   "outputs": [],
   "source": [
    "def v_sigma(x):\n",
    "    return np.std(x)"
   ]
  },
  {
   "cell_type": "markdown",
   "metadata": {},
   "source": [
    "### v_mu ou Moda\n",
    "O código do professor para extração de moda não foi feito através de uma função \"original\", mas pela função `mode` do MATLAB diretamente na função *master*. Aqui, por consistência, será feito através da função `v_mu`. O código abaixo se refere a uma das vezes em que a função `mode` foi utilizada no código do professor.\n",
    "```sh\n",
    "v_mu_PeDFA5(k)=mode(Delta1); %Quando há valores múltiplos ocorrendo com frequência igual, MODE retorna o menor destes valores\n",
    "```"
   ]
  },
  {
   "cell_type": "code",
   "execution_count": 1,
   "metadata": {},
   "outputs": [],
   "source": [
    "def v_mu(x):\n",
    "    return stats.mode(x).mode\n"
   ]
  },
  {
   "cell_type": "markdown",
   "metadata": {},
   "source": [
    "### v_sc ou Centróide Espectral\n",
    "\n",
    "![Cálculo do Centróide Espectral](img/v_sc.png)\n",
    "\n",
    "```sh\n",
    "%==========================================================================\n",
    "%> @resum Programa para Cálculo de Centróide Espectral \n",
    "%>         \n",
    "%> \n",
    "%> @param X: vetor ou matriz cujas colunas sejam Espectro de Amplitude\n",
    "%> @param hertz: \"1\" se deseja-se v_sc em hertz, \"0\" ou vazio caso contrá-\n",
    "%>               rio, ou omitido.\n",
    "%> @param niveldwt: para cáculo da taxa de amostragem equivalente ao nível \n",
    "%>                  DWT.\n",
    "%> @retval v_sc: vetor linha com cetróides espectrais das colunas de X.\n",
    "%>               \n",
    "%==========================================================================\n",
    "function [v_sc,v_sc_Hz] = v_sc(X,niveldwt,h)\n",
    "\n",
    "if nargin<3 || isempty(h), h=128; end\n",
    "\n",
    "f_s_eq=44100/((2^niveldwt)*h);\n",
    "\n",
    "X = X.^2;\n",
    "    v_sc = ([0:size(X,1)-1]*X)./sum(X,1);\n",
    "    \n",
    "    % avoid NaN for silence frames\n",
    "    v_sc (sum(X,1) == 0) = 0;\n",
    "    \n",
    "    if niveldwt~=0,\n",
    "        % convert from index to Hz\n",
    "        v_sc_Hz     = v_sc / size(X,1) * f_s_eq/2;\n",
    "    else\n",
    "        v_sc_Hz=v_sc;\n",
    "    end\n",
    "    \n",
    "     \n",
    "end\n",
    "```"
   ]
  },
  {
   "cell_type": "code",
   "execution_count": 2,
   "metadata": {},
   "outputs": [],
   "source": [
    "def v_sc(x, niveldwt = 5, h = 128):\n",
    "    \n",
    "    f_s_eq = 44100/((2^niveldwt)*h)\n",
    "    \n",
    "    x = np.power(x,2)\n",
    "    \n",
    "    v_sc = np.divide((np.matmul((np.arange(np.size(x))),(x))),(np.sum(x)))\n",
    "    \n",
    "    if niveldwt:\n",
    "        v_sc = v_sc / np.size(x)  * f_s_eq/2\n",
    "        \n",
    "    \n",
    "    return v_sc"
   ]
  },
  {
   "cell_type": "markdown",
   "metadata": {},
   "source": [
    "### v_ss ou Espalhamento Espectral\n",
    "```sh\n",
    "%==========================================================================\n",
    "%> @resum Calcula o Espalhamento Espectral considerando um único frame\n",
    "%> \n",
    "%>\n",
    "%> @param X: Espectrograma (dimensão NFFT X musicas)\n",
    "%> @param f_s: taxa de amostragem da função \n",
    "%>\n",
    "%> @valret v_SS: espalhamento Espectral (em índice ou Hz)\n",
    "%==========================================================================\n",
    "function [vSS] = v_SS(X,hertz,niveldwt,f_s,h)\n",
    "\n",
    "if nargin<2 || isempty(hertz), hertz=0; end\n",
    "\n",
    "if nargin<4 || isempty(f_s), f_s=44100; end\n",
    "\n",
    "if nargin<5 || isempty(h), h=128; end\n",
    "\n",
    "f_s_eq=f_s/((2^niveldwt)*h);\n",
    "%f_s_eq=44100;\n",
    "\n",
    "    % usa o centróide espectral como índice\n",
    "    vsc=v_sc(X,0);\n",
    "\n",
    "    % pré-alocação de memória\n",
    "    vSS=zeros(size(vsc));\n",
    " \n",
    "    % cálculo do espalhamento\n",
    "    X=X.^2;\n",
    "    for mus = 1:size(X,2)\n",
    "        vSS(mus)=(([0:size(X,1)-1]-vsc(mus)).^2*X(:,mus))./sum(X(:,mus));\n",
    "    end\n",
    "    \n",
    "    vSS=sqrt(vSS);\n",
    "    \n",
    "    if hertz==1\n",
    "    % converte de índice para Hz\n",
    "    vSS=vSS / size(X,1) * f_s_eq/2;\n",
    "    end\n",
    "    \n",
    "end\n",
    "```"
   ]
  },
  {
   "cell_type": "code",
   "execution_count": null,
   "metadata": {},
   "outputs": [],
   "source": [
    "def v_ss(x, niveldwt, hertz=0, f_s=44100, h=128):\n",
    "    #\n",
    "    #\n",
    "    #\n",
    "    return v_ss"
   ]
  },
  {
   "cell_type": "markdown",
   "metadata": {},
   "source": [
    "### v_SSk ou Skewness Espectral\n",
    "![Cálculo do Skewness Espectral](img/v_ssk.png)\n",
    "\n",
    "```sh\n",
    "%>=========================================================================\n",
    "%> @resum Skewness: calcula a assimetria da pdf de uma PeDF unilateral  \n",
    "%>         \n",
    "%>\n",
    "%> @param x: vetor ou matriz com PeDFs em suas colunas \n",
    "%>\n",
    "%> @valret v_Sk: \n",
    "%>=========================================================================\n",
    "\n",
    "function [v_Sk] = vSk(x)\n",
    "\n",
    "%x_unilateral=x((size(x,1)-1)/2+1:size(x,1),:);\n",
    "\n",
    "    for n=1:size(x,2)\n",
    "        v_Sk(:,n)=(1/(std(x(:,n).^3.*size(x,1))))*sum((detrend(x(:,n),'constant')).^3);\n",
    "    end\n",
    "    \n",
    "end\n",
    "```"
   ]
  },
  {
   "cell_type": "code",
   "execution_count": null,
   "metadata": {},
   "outputs": [],
   "source": [
    "def v_ssk(x):\n",
    "    \n",
    "    v_ssk = (1/(np.std(np.multiply(np.power(x,3), x.size))))  *  np.sum(np.power(signal.detrend(x, 'constant'), 3))\n",
    "    \n",
    "    return v_ssk\n"
   ]
  },
  {
   "cell_type": "markdown",
   "metadata": {},
   "source": [
    "### v_zcr ou Taxa de Cruzamento por Zero\n",
    "\n",
    "![Cálculo da Taxa de Cruzamento por Zero](img/v_zcr.png)\n",
    "\n",
    "```sh\n",
    "% =========================================================================\n",
    "%> @resum calcula a taxa de cruzamento ascendente por zero média,\n",
    "%>        e em cada frame\n",
    "%> \n",
    "%>\n",
    "%> @param PeDF: Matriz PeDF ou Vetor PeDF em análise\n",
    "%> @param Cf: comprimento do frame em amostras (ou Cpedf)\n",
    "%> @param h: comprimento do hop em amostras\n",
    "%> @param Thres: limiar (threshold) em relação ao valor rms da PeDF sobre o\n",
    "%>               qual os cruzamentos são computados. Padrão PeDFrms.\n",
    "%> @valret vzc_media: zero crossing rate médio\n",
    "%> @valret vzc: vetor com os ZCR para cada frame\n",
    "%> @valret t: tempo hop\n",
    "% =========================================================================\n",
    "\n",
    "function [vet_vzc_media,vzc_media,vzc] = vzcrPeDF(PeDFx, Cf, h, Thres) \n",
    " \n",
    "mus=size(PeDFx,2);\n",
    "vet_vzc_media=zeros(1,mus);\n",
    "\n",
    "for k=1:mus\n",
    "\n",
    "    PeDF=PeDFx(:,k);\n",
    "    Th=Thres*sqrt(mean(PeDF.^2)); %porcentagem do valor rms\n",
    "    \n",
    "    if nargin<4, Th=sqrt(mean(PeDF.^2)); end %Limiar (threshold) default: rms da PeDF\n",
    "    \n",
    "    if isempty(h)==true,\n",
    "        h=0;\n",
    "        Nf=1;\n",
    "    elseif isempty(h)==false,\n",
    "        % Número de frames\n",
    "        Nf=1;%ceil(size(PeDF,1)/h);\n",
    "    end\n",
    "    \n",
    "    %     % calcula o instante do hop\n",
    "    %     t               = ((0:Nf-1) * h + (Cf/2))/fs;\n",
    "    \n",
    "    % pré-alocação\n",
    "   % vzc             = zeros(1,Nf);\n",
    "    \n",
    "    for n = 1:Nf\n",
    "        i_start     = (n-1)*h + 1; %início dos frames\n",
    "        i_stop      = min(length(PeDF),i_start + Cf - 1);\n",
    "        \n",
    "        % calcula a zero crossing rate\n",
    "        d=(diff(sign(PeDF(i_start:i_stop)-Th)));\n",
    "        d(d<=0)=0;\n",
    "        d(d==2)=1;\n",
    "        vzc(n)=mean(d);\n",
    "    end\n",
    "    \n",
    "    vzc_media=mean(vzc);\n",
    "    vet_vzc_media(:,k)=vzc_media;\n",
    "end       \n",
    "end\n",
    "```"
   ]
  },
  {
   "cell_type": "code",
   "execution_count": null,
   "metadata": {},
   "outputs": [],
   "source": [
    "def v_zcr(x, Cf, f, threshold):\n",
    "    \n",
    "    return v_zcr"
   ]
  },
  {
   "cell_type": "markdown",
   "metadata": {},
   "source": [
    "### v_scf ou Fator do Espectro de Magnitude\n",
    " \n",
    " ![Cálculo do Spectral Crest Factor](img/v_scf.png)\n",
    " \n",
    "```sh\n",
    " % =========================================================================\n",
    "%> @resum calcula o spectral crest factor do espectro de magnitude\n",
    "%> chamada por: AtributosPeDF_v1.m\n",
    "%>\n",
    "%> @param X: matriz (módulo das FFT das PeDF nas Colunas)\n",
    "%> \n",
    "%>\n",
    "%> @valret vtsc spectral crest factor\n",
    "% =========================================================================\n",
    "function [vtsc] = v_SCF (X)\n",
    "\n",
    "   vtsc = max(X,[],1) ./ sum(X,1);\n",
    "end\n",
    "```"
   ]
  },
  {
   "cell_type": "code",
   "execution_count": null,
   "metadata": {},
   "outputs": [],
   "source": [
    "def v_scf(x):\n",
    "    v_scf = np.divide(np.amax(x), np.sum(x))\n",
    "    return v_scf"
   ]
  },
  {
   "cell_type": "markdown",
   "metadata": {},
   "source": [
    "### v_sr ou Spectral Rolloff\n",
    "\n",
    "![Cálculo do Spectral Rollof](img/v_sr.png)\n",
    "\n",
    "```sh\n",
    "% ======================================================================\n",
    "%> @resum calcula o rolloff espectral do espectro de magnitude \n",
    "%> chamado por: AtributosPeDF_v1\n",
    "%>\n",
    "%> @param X: matriz (módulo das FFT das PeDF nas Colunas)\n",
    "%> @param f_s: taxa de amostragem do áudio original \n",
    "%>\n",
    "%> @valret vsr: spectral rolloff (em Hz)\n",
    "% ======================================================================\n",
    "function [vsr] = v_SR (X, kappa,niveldwt, f_s, h)\n",
    "\n",
    "if nargin<5 || isempty(h), h=128; end\n",
    "if nargin<4 || isempty(f_s), f_s=44100; end\n",
    "if nargin<2 || isempty(kappa), kappa=.85; end\n",
    "    \n",
    "f_s_eq=f_s/((2^niveldwt)*h);\n",
    "%f_s_eq=44100;\n",
    "    % pré-alocação\n",
    "    vsr     = zeros(1,size(X,2));\n",
    "  \n",
    "    %calcula rolloff\n",
    "    resultSum   = sum(X,1);\n",
    "    for (n = 1:length(vsr))\n",
    "        vsr(n)  = find(cumsum(X(:,n)) >= kappa*resultSum(n), 1); \n",
    "    end\n",
    "    \n",
    "    % convert from index to Hz\n",
    "    vsr     = vsr / size(X,1) * f_s_eq/2;\n",
    "end\n",
    "```"
   ]
  },
  {
   "cell_type": "code",
   "execution_count": null,
   "metadata": {},
   "outputs": [],
   "source": [
    "def v_sr(x, niveldwt=5, kappa = .85, f_s = 44100, h=128):\n",
    "    \n",
    "    f_s_eq = f_s/((2^niveldwt)*h)\n",
    "    \n",
    "    #calculo\n",
    "    v_sr = np.argwhere( np.cumsum(x) >= kappa*np.sum(x))[0][0]\n",
    "    \n",
    "    #conversao de index para Hz\n",
    "    v_sr = v_sr/x.size * f_s_eq/2\n",
    "    \n",
    "    return v_sr"
   ]
  },
  {
   "cell_type": "markdown",
   "metadata": {},
   "source": [
    "### v_sd ou Spectral Decrease\n",
    "\n",
    "![Cálculo do Spectral Decrease](img/v_sd.png)\n",
    "\n",
    "```sh\n",
    "% ======================================================================\n",
    "%> @resum calcula o spectral decrease de um espectro de magnitude er\n",
    "%>        relação a vERf1\n",
    "%> chamado por: AtributosPeDF_v1\n",
    "%>\n",
    "%> @param X: matriz (módulo das FFT das PeDF nas Colunas)\n",
    "%> \n",
    "%>\n",
    "%> @valret vSD: spectral decrease (vSD<=1)\n",
    "% ======================================================================\n",
    "function [vSD] = v_sd (X,f_s_eq,NFFT)\n",
    "\n",
    "%if nargin<2 || isempty(f_s), f_s=44100; end\n",
    "\n",
    "f_R=f_s_eq./NFFT;\n",
    "\n",
    "indice=floor(0.5/f_R);\n",
    "\n",
    "X1=X(indice:end,:); %Elimina frequências abaixo de 0.5Hz do Espectro Rítmico\n",
    "\n",
    "[~,iMaxMod]=max(X1,[],1);\n",
    "\n",
    "X2=X1(iMaxMod:end,:);\n",
    "\n",
    "\n",
    "\n",
    "    % calcula o índice do vetor\n",
    "    k       = [0:size(X2,1)-1];\n",
    "    k(1)    = 1;\n",
    "    kinv    = 1./k;\n",
    "    \n",
    "    % calcula a inclinação\n",
    "    vSD     = (kinv*(X2-repmat(X2(1,:),size(X2,1),1)))./sum(X2(2:end,:),1);\n",
    "end\n",
    "```"
   ]
  },
  {
   "cell_type": "code",
   "execution_count": 7,
   "metadata": {},
   "outputs": [],
   "source": [
    "def v_sd(x, f_s_eq, NFFT):\n",
    "    \n",
    "    f_R = f_s_eq/NFFT\n",
    "    indice = np.floor(0.5/f_R)\n",
    "    x1 = x[indice:]\n",
    "    iMaxMod = np.argmax(x1)\n",
    "    x2 = x1[iMaxMod:]\n",
    "    \n",
    "    k = np.arange(np.size(x2)-1)\n",
    "    k[1] = 1\n",
    "    kinv = np.divide(1,k)\n",
    "    \n",
    "    v_sd = np.divide((kinv*(x2 - np.tile(x2[1], (np.size(x2),1))  )), (np.sum(x2[2:])))\n",
    "    \n",
    "    return v_sd\n",
    "    \n",
    "         "
   ]
  },
  {
   "cell_type": "code",
   "execution_count": null,
   "metadata": {},
   "outputs": [],
   "source": []
  }
 ],
 "metadata": {
  "kernelspec": {
   "display_name": "Python 3",
   "language": "python",
   "name": "python3"
  },
  "language_info": {
   "codemirror_mode": {
    "name": "ipython",
    "version": 3
   },
   "file_extension": ".py",
   "mimetype": "text/x-python",
   "name": "python",
   "nbconvert_exporter": "python",
   "pygments_lexer": "ipython3",
   "version": "3.6.5"
  }
 },
 "nbformat": 4,
 "nbformat_minor": 4
}
