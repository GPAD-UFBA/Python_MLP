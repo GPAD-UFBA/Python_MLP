{
 "cells": [
  {
   "cell_type": "code",
   "execution_count": 11,
   "metadata": {},
   "outputs": [],
   "source": [
    "import numpy as np\n",
    "import pandas as pd\n",
    "import time\n",
    "import matplotlib.pylab as plt\n",
    "from Data_Loading import *\n",
    "from sklearn.linear_model import LinearRegression\n",
    "from sklearn.neighbors import KNeighborsRegressor\n",
    "from sklearn.pipeline import Pipeline\n",
    "from sklearn.preprocessing import QuantileTransformer, StandardScaler\n",
    "from sklearn.model_selection import GridSearchCV\n",
    "\n",
    "from sklearn.neural_network import MLPRegressor\n",
    "from sklearn.model_selection import train_test_split\n",
    "from sklearn.metrics import mean_absolute_error, mean_squared_error, make_scorer"
   ]
  },
  {
   "cell_type": "code",
   "execution_count": 49,
   "metadata": {},
   "outputs": [
    {
     "data": {
      "text/plain": [
       "{'algorithm': 'auto',\n",
       " 'leaf_size': 30,\n",
       " 'metric': 'minkowski',\n",
       " 'metric_params': None,\n",
       " 'n_jobs': 1,\n",
       " 'n_neighbors': 5,\n",
       " 'p': 2,\n",
       " 'weights': 'uniform'}"
      ]
     },
     "execution_count": 49,
     "metadata": {},
     "output_type": "execute_result"
    }
   ],
   "source": [
    "mod = KNeighborsRegressor()\n",
    "\n",
    "mod.get_params()"
   ]
  },
  {
   "cell_type": "code",
   "execution_count": 37,
   "metadata": {},
   "outputs": [],
   "source": [
    "main_df = pd.read_csv('Banco de Dados/atributos/atributos_main.csv')\n",
    "\n",
    "resultados = {}"
   ]
  },
  {
   "cell_type": "code",
   "execution_count": 24,
   "metadata": {},
   "outputs": [],
   "source": [
    "X = main_df.iloc[:, 2:68]\n",
    "y = main_df.iloc[:, 68]\n",
    "X_train, X_test, y_train, y_test = train_test_split(X, y)\n"
   ]
  },
  {
   "cell_type": "code",
   "execution_count": 52,
   "metadata": {},
   "outputs": [
    {
     "name": "stdout",
     "output_type": "stream",
     "text": [
      "{'MLP com QuantileTransformer - MSE': 1092.2771696257248, 'MLP com QuantileTransformer - MAE': 25.29588132175929, 'Linear Regression com QuantileTransformer - MSE': 1080.7416035553954, 'Linear Regression com QuantileTransformer - MAE': 25.40405431302265, 'Linear Regression com StandardScaler - MSE': 1097.5678570242765, 'Linear Regression com StandardScaler - MAE': 25.422403483361645, 'KNN com StandardScaler - MSE': 1144.7507968403113, 'KNN com StandardScaler - MAE': 23.931452021660647, 'KNN com QuantileTransformer - MSE': 1120.7774958120742, 'KNN com QuantileTransformer - MAE': 23.796974849578824}\n"
     ]
    }
   ],
   "source": [
    "pipe = Pipeline([\n",
    "    ('scale', StandardScaler()),\n",
    "    ('model', MLPRegressor(max_iter = 1000))\n",
    "])\n",
    "\n",
    "pipe2 = Pipeline([\n",
    "    (\"scale\", QuantileTransformer()),\n",
    "    (\"model\", mod)\n",
    "])\n",
    "\n",
    "#pipe2.fit(X_train, y_train)\n",
    "\n",
    "#pred = pipe2.predict(X_test)\n",
    "\n",
    "#resultados['KNN com QuantileTransformer - MSE'] = mean_squared_error(pred, y_test)\n",
    "#resultados['KNN com QuantileTransformer - MAE'] = mean_absolute_error(pred, y_test)\n",
    "print(resultados)"
   ]
  },
  {
   "cell_type": "code",
   "execution_count": 53,
   "metadata": {},
   "outputs": [
    {
     "name": "stdout",
     "output_type": "stream",
     "text": [
      "Tempo decorrido: 740.6829061508179 segundos = 12.34471510251363 minutos\n"
     ]
    }
   ],
   "source": [
    "#list_of_sizes = [(5,), (11,), (16,), (22,), (5,5), (11, 11), (16, 11), (22, 16), (22, 16, 11)]\n",
    "list_of_sizes = [(5,), (5,5), (5,5,5)]\n",
    "\n",
    "start = time.time()\n",
    "grid = GridSearchCV(estimator = pipe,\n",
    "                   param_grid = {'model__alpha': [0.001, 0.003, 0.01, 0.03, 0.1, 0.3], \n",
    "                                'model__hidden_layer_sizes': list_of_sizes,\n",
    "                                'model__learning_rate_init': [0.001, 0.003, 0.01, 0.03, 0.1, 0.3]},\n",
    "                   scoring = {'mse': make_scorer(mean_squared_error), 'mae': make_scorer(mean_absolute_error)},\n",
    "                   refit='mse',\n",
    "                   cv=5,\n",
    "                   n_jobs=-1)\n",
    "\n",
    "grid.fit(X_train, y_train)\n",
    "end = time.time()\n",
    "print(f'Tempo decorrido: {end-start} segundos = {(end-start)/60} minutos')"
   ]
  },
  {
   "cell_type": "code",
   "execution_count": null,
   "metadata": {},
   "outputs": [],
   "source": [
    "df = pd.DataFrame(grid.)"
   ]
  },
  {
   "cell_type": "code",
   "execution_count": 54,
   "metadata": {},
   "outputs": [
    {
     "name": "stdout",
     "output_type": "stream",
     "text": [
      "1064.2433835254894\n",
      "24.272758376723342\n"
     ]
    },
    {
     "data": {
      "image/png": "[encoded data removed]",
      "text/plain": [
       "<Figure size 432x288 with 1 Axes>"
      ]
     },
     "metadata": {},
     "output_type": "display_data"
    }
   ],
   "source": [
    "pred = grid.predict(X_test)\n",
    "\n",
    "print(mean_squared_error(pred, y_test))\n",
    "\n",
    "plt.scatter(pred, y_test);\n",
    "\n",
    "plt.legend();\n",
    "\n",
    "resultados['MLP com StandardScaler - MSE'] = mean_squared_error(pred, y_test)\n",
    "resultados['MLP com StandardScaler - MAE'] = mean_absolute_error(pred, y_test)\n",
    "print(mean_absolute_error(pred, y_test))"
   ]
  },
  {
   "cell_type": "code",
   "execution_count": 44,
   "metadata": {
    "scrolled": true
   },
   "outputs": [
    {
     "name": "stderr",
     "output_type": "stream",
     "text": [
      "C:\\DevSoft\\Anaconda\\lib\\site-packages\\sklearn\\utils\\deprecation.py:122: FutureWarning: You are accessing a training score ('split0_train_mse'), which will not be available by default any more in 0.21. If you need training scores, please set return_train_score=True\n",
      "  warnings.warn(*warn_args, **warn_kwargs)\n",
      "C:\\DevSoft\\Anaconda\\lib\\site-packages\\sklearn\\utils\\deprecation.py:122: FutureWarning: You are accessing a training score ('split1_train_mse'), which will not be available by default any more in 0.21. If you need training scores, please set return_train_score=True\n",
      "  warnings.warn(*warn_args, **warn_kwargs)\n",
      "C:\\DevSoft\\Anaconda\\lib\\site-packages\\sklearn\\utils\\deprecation.py:122: FutureWarning: You are accessing a training score ('split2_train_mse'), which will not be available by default any more in 0.21. If you need training scores, please set return_train_score=True\n",
      "  warnings.warn(*warn_args, **warn_kwargs)\n",
      "C:\\DevSoft\\Anaconda\\lib\\site-packages\\sklearn\\utils\\deprecation.py:122: FutureWarning: You are accessing a training score ('split3_train_mse'), which will not be available by default any more in 0.21. If you need training scores, please set return_train_score=True\n",
      "  warnings.warn(*warn_args, **warn_kwargs)\n",
      "C:\\DevSoft\\Anaconda\\lib\\site-packages\\sklearn\\utils\\deprecation.py:122: FutureWarning: You are accessing a training score ('split4_train_mse'), which will not be available by default any more in 0.21. If you need training scores, please set return_train_score=True\n",
      "  warnings.warn(*warn_args, **warn_kwargs)\n",
      "C:\\DevSoft\\Anaconda\\lib\\site-packages\\sklearn\\utils\\deprecation.py:122: FutureWarning: You are accessing a training score ('mean_train_mse'), which will not be available by default any more in 0.21. If you need training scores, please set return_train_score=True\n",
      "  warnings.warn(*warn_args, **warn_kwargs)\n",
      "C:\\DevSoft\\Anaconda\\lib\\site-packages\\sklearn\\utils\\deprecation.py:122: FutureWarning: You are accessing a training score ('std_train_mse'), which will not be available by default any more in 0.21. If you need training scores, please set return_train_score=True\n",
      "  warnings.warn(*warn_args, **warn_kwargs)\n",
      "C:\\DevSoft\\Anaconda\\lib\\site-packages\\sklearn\\utils\\deprecation.py:122: FutureWarning: You are accessing a training score ('split0_train_mae'), which will not be available by default any more in 0.21. If you need training scores, please set return_train_score=True\n",
      "  warnings.warn(*warn_args, **warn_kwargs)\n",
      "C:\\DevSoft\\Anaconda\\lib\\site-packages\\sklearn\\utils\\deprecation.py:122: FutureWarning: You are accessing a training score ('split1_train_mae'), which will not be available by default any more in 0.21. If you need training scores, please set return_train_score=True\n",
      "  warnings.warn(*warn_args, **warn_kwargs)\n",
      "C:\\DevSoft\\Anaconda\\lib\\site-packages\\sklearn\\utils\\deprecation.py:122: FutureWarning: You are accessing a training score ('split2_train_mae'), which will not be available by default any more in 0.21. If you need training scores, please set return_train_score=True\n",
      "  warnings.warn(*warn_args, **warn_kwargs)\n",
      "C:\\DevSoft\\Anaconda\\lib\\site-packages\\sklearn\\utils\\deprecation.py:122: FutureWarning: You are accessing a training score ('split3_train_mae'), which will not be available by default any more in 0.21. If you need training scores, please set return_train_score=True\n",
      "  warnings.warn(*warn_args, **warn_kwargs)\n",
      "C:\\DevSoft\\Anaconda\\lib\\site-packages\\sklearn\\utils\\deprecation.py:122: FutureWarning: You are accessing a training score ('split4_train_mae'), which will not be available by default any more in 0.21. If you need training scores, please set return_train_score=True\n",
      "  warnings.warn(*warn_args, **warn_kwargs)\n",
      "C:\\DevSoft\\Anaconda\\lib\\site-packages\\sklearn\\utils\\deprecation.py:122: FutureWarning: You are accessing a training score ('mean_train_mae'), which will not be available by default any more in 0.21. If you need training scores, please set return_train_score=True\n",
      "  warnings.warn(*warn_args, **warn_kwargs)\n",
      "C:\\DevSoft\\Anaconda\\lib\\site-packages\\sklearn\\utils\\deprecation.py:122: FutureWarning: You are accessing a training score ('std_train_mae'), which will not be available by default any more in 0.21. If you need training scores, please set return_train_score=True\n",
      "  warnings.warn(*warn_args, **warn_kwargs)\n"
     ]
    },
    {
     "data": {
      "text/html": [
       "<div>\n",
       "<style scoped>\n",
       "    .dataframe tbody tr th:only-of-type {\n",
       "        vertical-align: middle;\n",
       "    }\n",
       "\n",
       "    .dataframe tbody tr th {\n",
       "        vertical-align: top;\n",
       "    }\n",
       "\n",
       "    .dataframe thead th {\n",
       "        text-align: right;\n",
       "    }\n",
       "</style>\n",
       "<table border=\"1\" class=\"dataframe\">\n",
       "  <thead>\n",
       "    <tr style=\"text-align: right;\">\n",
       "      <th></th>\n",
       "      <th>mean_fit_time</th>\n",
       "      <th>std_fit_time</th>\n",
       "      <th>mean_score_time</th>\n",
       "      <th>std_score_time</th>\n",
       "      <th>param_model__alpha</th>\n",
       "      <th>param_model__hidden_layer_sizes</th>\n",
       "      <th>param_model__learning_rate_init</th>\n",
       "      <th>params</th>\n",
       "      <th>split0_test_mse</th>\n",
       "      <th>split1_test_mse</th>\n",
       "      <th>...</th>\n",
       "      <th>mean_test_mae</th>\n",
       "      <th>std_test_mae</th>\n",
       "      <th>rank_test_mae</th>\n",
       "      <th>split0_train_mae</th>\n",
       "      <th>split1_train_mae</th>\n",
       "      <th>split2_train_mae</th>\n",
       "      <th>split3_train_mae</th>\n",
       "      <th>split4_train_mae</th>\n",
       "      <th>mean_train_mae</th>\n",
       "      <th>std_train_mae</th>\n",
       "    </tr>\n",
       "  </thead>\n",
       "  <tbody>\n",
       "    <tr>\n",
       "      <th>72</th>\n",
       "      <td>18.571742</td>\n",
       "      <td>6.59404</td>\n",
       "      <td>0.290697</td>\n",
       "      <td>0.018023</td>\n",
       "      <td>0.1</td>\n",
       "      <td>(5,)</td>\n",
       "      <td>0.001</td>\n",
       "      <td>{'model__alpha': 0.1, 'model__hidden_layer_siz...</td>\n",
       "      <td>10526.52253</td>\n",
       "      <td>1129.194437</td>\n",
       "      <td>...</td>\n",
       "      <td>39.872855</td>\n",
       "      <td>27.664388</td>\n",
       "      <td>1</td>\n",
       "      <td>96.392113</td>\n",
       "      <td>25.014153</td>\n",
       "      <td>25.445187</td>\n",
       "      <td>26.834048</td>\n",
       "      <td>25.231919</td>\n",
       "      <td>39.783484</td>\n",
       "      <td>28.311456</td>\n",
       "    </tr>\n",
       "  </tbody>\n",
       "</table>\n",
       "<p>1 rows × 38 columns</p>\n",
       "</div>"
      ],
      "text/plain": [
       "    mean_fit_time  std_fit_time  mean_score_time  std_score_time  \\\n",
       "72      18.571742       6.59404         0.290697        0.018023   \n",
       "\n",
       "   param_model__alpha param_model__hidden_layer_sizes  \\\n",
       "72                0.1                            (5,)   \n",
       "\n",
       "   param_model__learning_rate_init  \\\n",
       "72                           0.001   \n",
       "\n",
       "                                               params  split0_test_mse  \\\n",
       "72  {'model__alpha': 0.1, 'model__hidden_layer_siz...      10526.52253   \n",
       "\n",
       "    split1_test_mse      ...        mean_test_mae  std_test_mae  \\\n",
       "72      1129.194437      ...            39.872855     27.664388   \n",
       "\n",
       "    rank_test_mae  split0_train_mae  split1_train_mae  split2_train_mae  \\\n",
       "72              1         96.392113         25.014153         25.445187   \n",
       "\n",
       "    split3_train_mae  split4_train_mae  mean_train_mae  std_train_mae  \n",
       "72         26.834048         25.231919       39.783484      28.311456  \n",
       "\n",
       "[1 rows x 38 columns]"
      ]
     },
     "execution_count": 44,
     "metadata": {},
     "output_type": "execute_result"
    }
   ],
   "source": [
    "df = pd.DataFrame(grid.cv_results_)\n",
    "df.loc[df['rank_test_mse'] == 1]"
   ]
  },
  {
   "cell_type": "code",
   "execution_count": null,
   "metadata": {},
   "outputs": [],
   "source": [
    "indices = np.random.permutation(len(main_df))\n",
    "\n",
    "main_train = main_df.iloc[indices[:-1329]]\n",
    "main_test = main_df.iloc[indices[-1329:]]\n",
    "\n",
    "x_train = main_train.iloc[:, 1:67].values\n",
    "y_train = main_train.iloc[:, 67].values\n",
    "x_test = main_test.iloc[:, 1:67].values\n",
    "y_test = main_test.iloc[:, 67].values"
   ]
  },
  {
   "cell_type": "code",
   "execution_count": null,
   "metadata": {},
   "outputs": [],
   "source": [
    "regr.fit(x_train, y_train)\n",
    "\n",
    "regr.score(x_test, y_test)"
   ]
  },
  {
   "cell_type": "code",
   "execution_count": null,
   "metadata": {},
   "outputs": [],
   "source": [
    "prediction = regr.predict(x_test)\n",
    "\n",
    "total = len(prediction)\n",
    "certo1 = 0\n",
    "certo2 = 0\n",
    "certo3 = 0\n",
    "e = 0\n",
    "for i in range(len(prediction)):\n",
    "    x = prediction[i]\n",
    "    y = y_test[i]\n",
    "    \n",
    "    if x==y:\n",
    "        print('oi')\n",
    "        certo1+=1\n",
    "        certo2+=1\n",
    "        certo3+=1\n",
    "    elif x/y>0.959 and x/y<1.041:\n",
    "        certo2+=1\n",
    "        certo3+=1\n",
    "    elif 4*x/y>0.959 and 4*x/y<1.041:\n",
    "        certo3+=1\n",
    "    elif 2*x/y>0.959 and 2*x/y<1.041:\n",
    "        certo3+=1\n",
    "    elif x/(y*2)>0.959 and x/(y*2)<1.041:\n",
    "        certo3+=1\n",
    "    elif x/(y*4)>0.959 and x/(y*4)<1.041:\n",
    "        certo3+=1\n",
    "    \n",
    "    e += abs(x/y-1)\n",
    "        \n",
    "acc1 = 100*certo1/total\n",
    "acc2 = 100*certo2/total\n",
    "acc3 = 100*certo3/total\n",
    "e = 100*e/total\n",
    "\n",
    "print(f'Acuracia 1: {acc1}%;    Acuracia 2: {acc2}%;    Acuracia 3: {acc3}%;    Erro Médio: {e}%')"
   ]
  },
  {
   "cell_type": "code",
   "execution_count": null,
   "metadata": {},
   "outputs": [],
   "source": [
    "x_train_df = main_train.iloc[:, 1:67]\n",
    "y_train_df = main_train.iloc[:, 67]\n",
    "x_test_df = main_test.iloc[:, 1:67]\n",
    "y_test_df = main_test.iloc[:, 67]\n",
    "\n",
    "x_train_df.to_csv('Banco de Dados/best_x_train.csv')\n",
    "x_test_df.to_csv('Banco de Dados/best_x_test.csv')\n",
    "y_train_df.to_csv('Banco de Dados/best_y_train.csv')\n",
    "y_test_df.to_csv('Banco de Dados/best_y_test.csv')"
   ]
  },
  {
   "cell_type": "code",
   "execution_count": null,
   "metadata": {},
   "outputs": [],
   "source": []
  }
 ],
 "metadata": {
  "kernelspec": {
   "display_name": "Python 3",
   "language": "python",
   "name": "python3"
  },
  "language_info": {
   "codemirror_mode": {
    "name": "ipython",
    "version": 3
   },
   "file_extension": ".py",
   "mimetype": "text/x-python",
   "name": "python",
   "nbconvert_exporter": "python",
   "pygments_lexer": "ipython3",
   "version": "3.6.5"
  }
 },
 "nbformat": 4,
 "nbformat_minor": 2
}
