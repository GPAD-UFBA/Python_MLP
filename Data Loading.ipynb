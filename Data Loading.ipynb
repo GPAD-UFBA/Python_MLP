{
 "cells": [
  {
   "cell_type": "code",
   "execution_count": 1,
   "metadata": {},
   "outputs": [],
   "source": [
    "from gpad_data_generation import *\n",
    "\n",
    "odf, pedf, ppedf, coefs = music_processor('100605.mp3')"
   ]
  },
  {
   "cell_type": "code",
   "execution_count": 2,
   "metadata": {},
   "outputs": [
    {
     "name": "stdout",
     "output_type": "stream",
     "text": [
      "[0.36822566 0.20685749 0.33419704 0.29941607 0.30600044 0.3260313\n",
      " 0.36221617 0.3180071  0.35274825 0.3936498  0.28667712 0.56435424\n",
      " 0.26343498 0.5777899  0.4090991  0.4470215  0.4918968  0.65563154\n",
      " 0.30833125 1.         0.30833125 0.65563154 0.4918968  0.4470215\n",
      " 0.4090991  0.5777899  0.26343498 0.56435424 0.28667712 0.3936498\n",
      " 0.35274825 0.3180071  0.36221617 0.3260313  0.30600044 0.29941607\n",
      " 0.33419704 0.20685749]\n"
     ]
    }
   ],
   "source": [
    "print(pedf[1])"
   ]
  },
  {
   "cell_type": "code",
   "execution_count": 3,
   "metadata": {},
   "outputs": [
    {
     "data": {
      "image/png": "[encoded data removed]",
      "text/plain": [
       "<Figure size 432x288 with 1 Axes>"
      ]
     },
     "metadata": {},
     "output_type": "display_data"
    }
   ],
   "source": [
    "plot_PeDF(ppedf[1], 'partial')"
   ]
  },
  {
   "cell_type": "code",
   "execution_count": 4,
   "metadata": {},
   "outputs": [
    {
     "name": "stdout",
     "output_type": "stream",
     "text": [
      "[0 0 0 0 8 9 7]\n",
      "[0 8 9 7]\n",
      "[3 0 0 0 8 9 7]\n"
     ]
    }
   ],
   "source": [
    "from AE_functions import *\n"
   ]
  },
  {
   "cell_type": "code",
   "execution_count": 5,
   "metadata": {},
   "outputs": [
    {
     "name": "stdout",
     "output_type": "stream",
     "text": [
      "(38,)\n",
      "()\n",
      "()\n"
     ]
    }
   ],
   "source": [
    "x = v_sc(pedf[1], 5)"
   ]
  },
  {
   "cell_type": "code",
   "execution_count": 11,
   "metadata": {},
   "outputs": [
    {
     "ename": "TypeError",
     "evalue": "v_sd() missing 2 required positional arguments: 'f_s_eq' and 'NFFT'",
     "output_type": "error",
     "traceback": [
      "\u001b[1;31m---------------------------------------------------------------------------\u001b[0m",
      "\u001b[1;31mTypeError\u001b[0m                                 Traceback (most recent call last)",
      "\u001b[1;32m<ipython-input-11-9f64ab1b4ac3>\u001b[0m in \u001b[0;36m<module>\u001b[1;34m()\u001b[0m\n\u001b[1;32m----> 1\u001b[1;33m \u001b[0mprint\u001b[0m\u001b[1;33m(\u001b[0m\u001b[0mv_sd\u001b[0m\u001b[1;33m(\u001b[0m\u001b[0mpedf\u001b[0m\u001b[1;33m[\u001b[0m\u001b[1;36m1\u001b[0m\u001b[1;33m]\u001b[0m\u001b[1;33m)\u001b[0m\u001b[1;33m)\u001b[0m\u001b[1;33m\u001b[0m\u001b[0m\n\u001b[0m",
      "\u001b[1;31mTypeError\u001b[0m: v_sd() missing 2 required positional arguments: 'f_s_eq' and 'NFFT'"
     ]
    }
   ],
   "source": [
    "print(v_sd(pedf[1]))"
   ]
  },
  {
   "cell_type": "code",
   "execution_count": null,
   "metadata": {},
   "outputs": [],
   "source": []
  }
 ],
 "metadata": {
  "kernelspec": {
   "display_name": "Python 3",
   "language": "python",
   "name": "python3"
  },
  "language_info": {
   "codemirror_mode": {
    "name": "ipython",
    "version": 3
   },
   "file_extension": ".py",
   "mimetype": "text/x-python",
   "name": "python",
   "nbconvert_exporter": "python",
   "pygments_lexer": "ipython3",
   "version": "3.6.5"
  }
 },
 "nbformat": 4,
 "nbformat_minor": 4
}
